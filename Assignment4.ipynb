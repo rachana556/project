{
 "cells": [
  {
   "cell_type": "markdown",
   "metadata": {},
   "source": [
    "# Assignment Questions "
   ]
  },
  {
   "cell_type": "markdown",
   "metadata": {},
   "source": [
    "1.Using Numpy to generate an array of 25 random numbers sampled from a standard normal distribution"
   ]
  },
  {
   "cell_type": "code",
   "execution_count": 1,
   "metadata": {},
   "outputs": [
    {
     "data": {
      "text/plain": [
       "array([0.48009568, 0.09071336, 0.59639269, 0.85485244, 0.75975094,\n",
       "       0.96113506, 0.38915973, 0.66607438, 0.742312  , 0.38115338,\n",
       "       0.03316925, 0.91328277, 0.05806791, 0.78752284, 0.63561085,\n",
       "       0.91072262, 0.87161987, 0.60366336, 0.47763128, 0.97284664,\n",
       "       0.74903249, 0.589211  , 0.37971979, 0.55187335, 0.42844905])"
      ]
     },
     "execution_count": 1,
     "metadata": {},
     "output_type": "execute_result"
    }
   ],
   "source": [
    "import numpy as np\n",
    "np.random.rand(25)"
   ]
  },
  {
   "cell_type": "markdown",
   "metadata": {},
   "source": [
    "2.Create an array of 20 linear spaced points between 0 and 1"
   ]
  },
  {
   "cell_type": "code",
   "execution_count": 2,
   "metadata": {},
   "outputs": [
    {
     "data": {
      "text/plain": [
       "array([0.        , 0.05263158, 0.10526316, 0.15789474, 0.21052632,\n",
       "       0.26315789, 0.31578947, 0.36842105, 0.42105263, 0.47368421,\n",
       "       0.52631579, 0.57894737, 0.63157895, 0.68421053, 0.73684211,\n",
       "       0.78947368, 0.84210526, 0.89473684, 0.94736842, 1.        ])"
      ]
     },
     "execution_count": 2,
     "metadata": {},
     "output_type": "execute_result"
    }
   ],
   "source": [
    "np.linspace(0, 1, 20)"
   ]
  },
  {
   "cell_type": "markdown",
   "metadata": {},
   "source": [
    "3.Declare a numpy array of values from 1 to 100 and make it into 10*10 matrix"
   ]
  },
  {
   "cell_type": "code",
   "execution_count": 3,
   "metadata": {},
   "outputs": [
    {
     "data": {
      "text/plain": [
       "array([[ 0,  1,  2,  3,  4,  5,  6,  7,  8,  9],\n",
       "       [10, 11, 12, 13, 14, 15, 16, 17, 18, 19],\n",
       "       [20, 21, 22, 23, 24, 25, 26, 27, 28, 29],\n",
       "       [30, 31, 32, 33, 34, 35, 36, 37, 38, 39],\n",
       "       [40, 41, 42, 43, 44, 45, 46, 47, 48, 49],\n",
       "       [50, 51, 52, 53, 54, 55, 56, 57, 58, 59],\n",
       "       [60, 61, 62, 63, 64, 65, 66, 67, 68, 69],\n",
       "       [70, 71, 72, 73, 74, 75, 76, 77, 78, 79],\n",
       "       [80, 81, 82, 83, 84, 85, 86, 87, 88, 89],\n",
       "       [90, 91, 92, 93, 94, 95, 96, 97, 98, 99]])"
      ]
     },
     "execution_count": 3,
     "metadata": {},
     "output_type": "execute_result"
    }
   ],
   "source": [
    "import numpy as np\n",
    "array = np.arange(100).reshape(10,10)\n",
    "array"
   ]
  },
  {
   "cell_type": "markdown",
   "metadata": {},
   "source": [
    "4.Using the previously defind matrix print rows 1,5,6"
   ]
  },
  {
   "cell_type": "code",
   "execution_count": 4,
   "metadata": {},
   "outputs": [
    {
     "name": "stdout",
     "output_type": "stream",
     "text": [
      "[[10 11 12 13 14 15 16 17 18 19]\n",
      " [50 51 52 53 54 55 56 57 58 59]\n",
      " [60 61 62 63 64 65 66 67 68 69]]\n"
     ]
    }
   ],
   "source": [
    "print(array[[1,5,6]])"
   ]
  },
  {
   "cell_type": "markdown",
   "metadata": {},
   "source": [
    "5.Using the previously defined matrix print elements from 3rd row to 10th row"
   ]
  },
  {
   "cell_type": "code",
   "execution_count": 5,
   "metadata": {},
   "outputs": [
    {
     "name": "stdout",
     "output_type": "stream",
     "text": [
      "[[30 31 32 33 34 35 36 37 38 39]\n",
      " [40 41 42 43 44 45 46 47 48 49]\n",
      " [50 51 52 53 54 55 56 57 58 59]\n",
      " [60 61 62 63 64 65 66 67 68 69]\n",
      " [70 71 72 73 74 75 76 77 78 79]\n",
      " [80 81 82 83 84 85 86 87 88 89]\n",
      " [90 91 92 93 94 95 96 97 98 99]]\n"
     ]
    }
   ],
   "source": [
    "print(array[3:])"
   ]
  },
  {
   "cell_type": "markdown",
   "metadata": {},
   "source": [
    "6.Using the previously defined matrix print all the elements from 4th row to 8th row"
   ]
  },
  {
   "cell_type": "code",
   "execution_count": 6,
   "metadata": {},
   "outputs": [
    {
     "name": "stdout",
     "output_type": "stream",
     "text": [
      "[[ 3  4  5  6  7]\n",
      " [13 14 15 16 17]\n",
      " [23 24 25 26 27]\n",
      " [33 34 35 36 37]\n",
      " [43 44 45 46 47]\n",
      " [53 54 55 56 57]\n",
      " [63 64 65 66 67]\n",
      " [73 74 75 76 77]\n",
      " [83 84 85 86 87]\n",
      " [93 94 95 96 97]]\n"
     ]
    }
   ],
   "source": [
    "print(array[0:10,3:8])"
   ]
  },
  {
   "cell_type": "markdown",
   "metadata": {},
   "source": [
    "7.Using the same matrix print values from 3rd row 2nd column to 5th row 8th column"
   ]
  },
  {
   "cell_type": "code",
   "execution_count": 7,
   "metadata": {},
   "outputs": [
    {
     "name": "stdout",
     "output_type": "stream",
     "text": [
      "[[21 22 23 24 25 26 27]\n",
      " [31 32 33 34 35 36 37]\n",
      " [41 42 43 44 45 46 47]]\n"
     ]
    }
   ],
   "source": [
    "print(array[2:5,1:8])"
   ]
  },
  {
   "cell_type": "markdown",
   "metadata": {},
   "source": [
    "8.Write a code to generate random 1000 numbers each in range (0,1) such that the count of all random points like are almost same"
   ]
  },
  {
   "cell_type": "code",
   "execution_count": 8,
   "metadata": {},
   "outputs": [
    {
     "data": {
      "text/plain": [
       "array([0.16308613, 0.46915478, 0.20934298, 0.03689919, 0.33513932,\n",
       "       0.18405034, 0.61387551, 0.37014842, 0.29477537, 0.22097851,\n",
       "       0.27014559, 0.41563872, 0.5849464 , 0.1235286 , 0.5831543 ,\n",
       "       0.44498629, 0.15362408, 0.24783811, 0.52872971, 0.58323954,\n",
       "       0.20320496, 0.30378049, 0.2599774 , 0.5521498 , 0.44128525,\n",
       "       0.34382671, 0.36210695, 0.1301824 , 0.43523731, 0.54423469,\n",
       "       0.13807111, 0.0185709 , 0.4586538 , 0.04199147, 0.09705259,\n",
       "       0.96798923, 0.01305587, 0.05501424, 0.01158236, 0.24872581,\n",
       "       0.56265666, 0.62276203, 0.76287825, 0.70277222, 0.00179721,\n",
       "       0.08853167, 0.97591455, 0.85568029, 0.98422006, 0.46697233,\n",
       "       0.16840112, 0.48814611, 0.1060646 , 0.45077662, 0.91910776,\n",
       "       0.41011761, 0.85023501, 0.20982841, 0.27919018, 0.98380119,\n",
       "       0.82455181, 0.81113403, 0.20949281, 0.25920579, 0.79146494,\n",
       "       0.56274453, 0.78204698, 0.90273547, 0.74982931, 0.08919481,\n",
       "       0.31528872, 0.37426338, 0.04701456, 0.22717154, 0.38725527,\n",
       "       0.42882267, 0.32186645, 0.79062046, 0.62954964, 0.81611841,\n",
       "       0.34266844, 0.69757129, 0.63405589, 0.98347469, 0.83003171,\n",
       "       0.04147805, 0.90025395, 0.98395343, 0.63374353, 0.23821071,\n",
       "       0.68590907, 0.00827741, 0.24657861, 0.4448625 , 0.61827619,\n",
       "       0.63715374, 0.36387155, 0.53839834, 0.53576696, 0.76384493])"
      ]
     },
     "execution_count": 8,
     "metadata": {},
     "output_type": "execute_result"
    }
   ],
   "source": [
    "np.random.rand(100)"
   ]
  },
  {
   "cell_type": "markdown",
   "metadata": {},
   "source": [
    "9.Write the commands to get standard deviation, mean,median,mode for a given vector"
   ]
  },
  {
   "cell_type": "code",
   "execution_count": 9,
   "metadata": {},
   "outputs": [
    {
     "data": {
      "text/plain": [
       "4.5"
      ]
     },
     "execution_count": 9,
     "metadata": {},
     "output_type": "execute_result"
    }
   ],
   "source": [
    "a = np.array([[7, 2], [5, 4]])\n",
    "np.mean(a)"
   ]
  },
  {
   "cell_type": "code",
   "execution_count": 10,
   "metadata": {},
   "outputs": [
    {
     "data": {
      "text/plain": [
       "4.5"
      ]
     },
     "execution_count": 10,
     "metadata": {},
     "output_type": "execute_result"
    }
   ],
   "source": [
    "np.median(a)"
   ]
  },
  {
   "cell_type": "code",
   "execution_count": 11,
   "metadata": {},
   "outputs": [
    {
     "data": {
      "text/plain": [
       "1.8027756377319946"
      ]
     },
     "execution_count": 11,
     "metadata": {},
     "output_type": "execute_result"
    }
   ],
   "source": [
    "np.std(a)"
   ]
  },
  {
   "cell_type": "code",
   "execution_count": 12,
   "metadata": {},
   "outputs": [
    {
     "data": {
      "text/plain": [
       "array([[7, 1, 1, 7],\n",
       "       [9, 4, 3, 8],\n",
       "       [6, 1, 9, 7],\n",
       "       [9, 7, 2, 5],\n",
       "       [5, 1, 5, 9]])"
      ]
     },
     "execution_count": 12,
     "metadata": {},
     "output_type": "execute_result"
    }
   ],
   "source": [
    "a = np.array([[7, 1, 1, 7],\n",
    "             [9, 4, 3, 8],\n",
    "             [6, 1, 9, 7],\n",
    "             [9, 7, 2, 5],\n",
    "             [5, 1, 5, 9]])\n",
    "a"
   ]
  },
  {
   "cell_type": "code",
   "execution_count": 13,
   "metadata": {},
   "outputs": [
    {
     "data": {
      "text/plain": [
       "ModeResult(mode=array([[9, 1, 1, 7]]), count=array([[2, 3, 1, 2]]))"
      ]
     },
     "execution_count": 13,
     "metadata": {},
     "output_type": "execute_result"
    }
   ],
   "source": [
    "from scipy import stats\n",
    "stats.mode(a)"
   ]
  },
  {
   "cell_type": "code",
   "execution_count": null,
   "metadata": {},
   "outputs": [],
   "source": []
  },
  {
   "cell_type": "code",
   "execution_count": null,
   "metadata": {},
   "outputs": [],
   "source": []
  }
 ],
 "metadata": {
  "kernelspec": {
   "display_name": "Python 3",
   "language": "python",
   "name": "python3"
  },
  "language_info": {
   "codemirror_mode": {
    "name": "ipython",
    "version": 3
   },
   "file_extension": ".py",
   "mimetype": "text/x-python",
   "name": "python",
   "nbconvert_exporter": "python",
   "pygments_lexer": "ipython3",
   "version": "3.6.8"
  }
 },
 "nbformat": 4,
 "nbformat_minor": 4
}
